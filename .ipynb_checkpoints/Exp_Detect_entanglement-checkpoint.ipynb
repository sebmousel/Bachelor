{
 "cells": [
  {
   "cell_type": "code",
   "execution_count": 1,
   "metadata": {},
   "outputs": [],
   "source": [
    "import numpy as np\n",
    "import scipy.linalg as la"
   ]
  },
  {
   "cell_type": "code",
   "execution_count": null,
   "metadata": {},
   "outputs": [],
   "source": []
  },
  {
   "cell_type": "code",
   "execution_count": 2,
   "metadata": {},
   "outputs": [],
   "source": [
    "def partial_transpose(rho, subsystem_dims, system_to_transpose):\n",
    "    \"\"\"\n",
    "    Compute the partial transpose of a density matrix with respect to one subsystem.\n",
    "    \n",
    "    Parameters:\n",
    "    rho (np.ndarray): The density matrix of the quantum state.\n",
    "    subsystem_dims (tuple): The dimensions of the subsystems.\n",
    "    system_to_transpose (int): The subsystem (0 or 1) to perform the partial transpose on.\n",
    "    \n",
    "    Returns:\n",
    "    np.ndarray: The partially transposed density matrix.\n",
    "    \"\"\"\n",
    "    # Reshape the density matrix into a 4D tensor\n",
    "    rho_tensor = np.reshape(rho, subsystem_dims + subsystem_dims)\n",
    "    \n",
    "    if system_to_transpose == 0:\n",
    "        # Transpose the first subsystem (swap axes 1 and 2)\n",
    "        rho_tensor = np.transpose(rho_tensor, (1, 0, 3, 2))\n",
    "    else:\n",
    "        # Transpose the second subsystem (swap axes 0 and 3)\n",
    "        rho_tensor = np.transpose(rho_tensor, (1,2,3,0))\n",
    "    \n",
    "    # Reshape back into a 2D matrix\n",
    "    return np.reshape(rho_tensor, (np.prod(subsystem_dims), np.prod(subsystem_dims)))"
   ]
  },
  {
   "cell_type": "code",
   "execution_count": 3,
   "metadata": {},
   "outputs": [],
   "source": [
    "def is_entangled(density_matrix, subsystem_dims):\n",
    "    \"\"\"\n",
    "    Check if a given density matrix is entangled or free using the PPT criterion.\n",
    "    \n",
    "    Parameters:\n",
    "    density_matrix (np.ndarray): The density matrix of the quantum state.\n",
    "    subsystem_dims (tuple): The dimensions of the subsystems, e.g., (2, 2) for a 2-qubit system.\n",
    "    \n",
    "    Returns:\n",
    "    bool: True if the state is entangled, False if it is free (separable).\n",
    "    \"\"\"\n",
    "    # Perform the partial transpose on the first subsystem\n",
    "    rho_partial_transpose = partial_transpose(density_matrix, subsystem_dims, 1)\n",
    "    \n",
    "    # Compute the eigenvalues of the partially transposed matrix\n",
    "    eigenvalues = la.eigvalsh(rho_partial_transpose)\n",
    "    \n",
    "    # If any eigenvalue is negative, the state is entangled\n",
    "    if np.any(eigenvalues < 0):\n",
    "        return True  # Entangled\n",
    "    else:\n",
    "        return False  # Separable (Free)"
   ]
  },
  {
   "cell_type": "code",
   "execution_count": 4,
   "metadata": {},
   "outputs": [],
   "source": [
    "bell_state = np.array([[0, 0, 0, 0],\n",
    "                       [0, 0.5, 0.5, 0],\n",
    "                       [0, 0.5, 0.5, 0],\n",
    "                       [0, 0, 0, 0]])"
   ]
  },
  {
   "cell_type": "code",
   "execution_count": 5,
   "metadata": {},
   "outputs": [
    {
     "name": "stdout",
     "output_type": "stream",
     "text": [
      "Is the state entangled? True\n"
     ]
    }
   ],
   "source": [
    "is_entangled_state = is_entangled(bell_state, (2, 2))\n",
    "print(\"Is the state entangled?\", is_entangled_state)"
   ]
  },
  {
   "cell_type": "code",
   "execution_count": 6,
   "metadata": {},
   "outputs": [],
   "source": [
    "bell = bell_state"
   ]
  },
  {
   "cell_type": "code",
   "execution_count": 7,
   "metadata": {},
   "outputs": [
    {
     "name": "stdout",
     "output_type": "stream",
     "text": [
      "[[[[0.  0. ]\n",
      "   [0.  0. ]]\n",
      "\n",
      "  [[0.  0.5]\n",
      "   [0.5 0. ]]]\n",
      "\n",
      "\n",
      " [[[0.  0.5]\n",
      "   [0.5 0. ]]\n",
      "\n",
      "  [[0.  0. ]\n",
      "   [0.  0. ]]]]\n",
      "-------\n",
      "[0. 0.]\n",
      "------\n",
      "[[[[0.  0. ]\n",
      "   [0.  0.5]]\n",
      "\n",
      "  [[0.  0.5]\n",
      "   [0.5 0. ]]]\n",
      "\n",
      "\n",
      " [[[0.  0.5]\n",
      "   [0.5 0. ]]\n",
      "\n",
      "  [[0.  0. ]\n",
      "   [0.  0. ]]]]\n"
     ]
    }
   ],
   "source": [
    "bell = bell.reshape(2,2,2,2)\n",
    "print(bell)\n",
    "print(\"-------\")\n",
    "print(bell[0][0][0])\n",
    "bell[0][0][1] = bell[0][1][0]\n",
    "print(\"------\")\n",
    "print(bell)"
   ]
  },
  {
   "cell_type": "code",
   "execution_count": 8,
   "metadata": {},
   "outputs": [
    {
     "name": "stdout",
     "output_type": "stream",
     "text": [
      "1 [[0.  0.  0.  0.5]\n",
      " [0.  0.5 0.5 0. ]\n",
      " [0.  0.5 0.5 0. ]\n",
      " [0.  0.  0.  0. ]]\n",
      "2 [[0.  0.  0.  0.5]\n",
      " [0.  0.5 0.5 0. ]\n",
      " [0.  0.5 0.5 0. ]\n",
      " [0.  0.  0.  0. ]]\n",
      "3 [[0.  0.  0.  0.5]\n",
      " [0.  0.5 0.5 0. ]\n",
      " [0.  0.5 0.  0. ]\n",
      " [0.5 0.  0.  0. ]]\n",
      "4 [[0.  0.  0.  0.5]\n",
      " [0.  0.5 0.5 0. ]\n",
      " [0.  0.  0.5 0. ]\n",
      " [0.5 0.  0.  0. ]]\n"
     ]
    }
   ],
   "source": [
    "print(\"1\",bell.transpose(0,1,2,3).reshape(4,4))\n",
    "print(\"2\",bell.transpose(0,1,3,2).reshape(4,4))\n",
    "print(\"3\",bell.transpose(0,2,1,3).reshape(4,4))\n",
    "print(\"4\",bell.transpose(1,2,3,0).reshape(4,4))"
   ]
  },
  {
   "cell_type": "code",
   "execution_count": 9,
   "metadata": {},
   "outputs": [
    {
     "ename": "SyntaxError",
     "evalue": "invalid syntax (2215008796.py, line 1)",
     "output_type": "error",
     "traceback": [
      "\u001b[1;36m  File \u001b[1;32m\"C:\\Users\\Sebastian\\AppData\\Local\\Temp\\ipykernel_26200\\2215008796.py\"\u001b[1;36m, line \u001b[1;32m1\u001b[0m\n\u001b[1;33m    https://stackoverflow.com/questions/32034237/how-does-numpys-transpose-method-permute-the-axes-of-an-array\u001b[0m\n\u001b[1;37m          ^\u001b[0m\n\u001b[1;31mSyntaxError\u001b[0m\u001b[1;31m:\u001b[0m invalid syntax\n"
     ]
    }
   ],
   "source": [
    "https://stackoverflow.com/questions/32034237/how-does-numpys-transpose-method-permute-the-axes-of-an-array"
   ]
  },
  {
   "cell_type": "code",
   "execution_count": 10,
   "metadata": {},
   "outputs": [],
   "source": [
    "arr = np.arange(1,5)"
   ]
  },
  {
   "cell_type": "code",
   "execution_count": 11,
   "metadata": {},
   "outputs": [
    {
     "name": "stdout",
     "output_type": "stream",
     "text": [
      "[1 2 3 4]\n"
     ]
    }
   ],
   "source": [
    "print(arr)"
   ]
  },
  {
   "cell_type": "code",
   "execution_count": 12,
   "metadata": {},
   "outputs": [
    {
     "name": "stdout",
     "output_type": "stream",
     "text": [
      "[[1 2]\n",
      " [3 4]]\n"
     ]
    }
   ],
   "source": [
    "arr = arr.reshape(2,2)\n",
    "print(arr)"
   ]
  },
  {
   "cell_type": "code",
   "execution_count": 13,
   "metadata": {},
   "outputs": [
    {
     "data": {
      "text/plain": [
       "array([[1, 3],\n",
       "       [2, 4]])"
      ]
     },
     "execution_count": 13,
     "metadata": {},
     "output_type": "execute_result"
    }
   ],
   "source": [
    "arr.transpose(1,0)"
   ]
  },
  {
   "cell_type": "code",
   "execution_count": 14,
   "metadata": {},
   "outputs": [
    {
     "name": "stdout",
     "output_type": "stream",
     "text": [
      "[[[[ 0  2]\n",
      "   [ 1  3]]\n",
      "\n",
      "  [[ 4  6]\n",
      "   [ 5  7]]]\n",
      "\n",
      "\n",
      " [[[ 8 10]\n",
      "   [ 9 11]]\n",
      "\n",
      "  [[12 14]\n",
      "   [13 15]]]]\n"
     ]
    }
   ],
   "source": [
    "bell = np.arange(16).reshape(2,2,2,2).transpose(0,1,3,2)\n",
    "print(bell)"
   ]
  },
  {
   "cell_type": "code",
   "execution_count": 15,
   "metadata": {},
   "outputs": [
    {
     "name": "stdout",
     "output_type": "stream",
     "text": [
      "[ 0  1  2  3  4  5  6  7  8  9 10 11 12 13 14 15]\n"
     ]
    }
   ],
   "source": [
    "bell2 = np.arange(16)\n",
    "print(bell2)"
   ]
  },
  {
   "cell_type": "code",
   "execution_count": 16,
   "metadata": {},
   "outputs": [
    {
     "name": "stdout",
     "output_type": "stream",
     "text": [
      "[[[[ 0  1]\n",
      "   [ 2  3]]\n",
      "\n",
      "  [[ 4  5]\n",
      "   [ 6  7]]]\n",
      "\n",
      "\n",
      " [[[ 8  9]\n",
      "   [10 11]]\n",
      "\n",
      "  [[12 13]\n",
      "   [14 15]]]]\n"
     ]
    }
   ],
   "source": [
    "bell2 = bell2.reshape(2,2,2,2)\n",
    "print(bell2)"
   ]
  },
  {
   "cell_type": "code",
   "execution_count": 26,
   "metadata": {},
   "outputs": [
    {
     "name": "stdout",
     "output_type": "stream",
     "text": [
      "[[ 0  1  2  3]\n",
      " [ 4  5  6  7]\n",
      " [ 8  9 10 11]\n",
      " [12 13 14 15]]\n",
      "[[ 0  1  4  5]\n",
      " [ 2  3  6  7]\n",
      " [ 8  9 12 13]\n",
      " [10 11 14 15]]\n",
      "[[ 0  4  1  5]\n",
      " [ 2  6  3  7]\n",
      " [ 8 12  9 13]\n",
      " [10 14 11 15]]\n",
      "[[ 0  4  2  6]\n",
      " [ 1  5  3  7]\n",
      " [ 8 12 10 14]\n",
      " [ 9 13 11 15]]\n"
     ]
    }
   ],
   "source": [
    "print(np.reshape(bell2,(4,4)))\n",
    "firstbell = bell2.transpose(0,2,1,3)\n",
    "print(np.reshape(firstbell,(4,4)))\n",
    "midbell = firstbell.transpose(0,1,3,2)\n",
    "print(np.reshape(midbell,(4,4)))\n",
    "print(np.reshape(midbell.transpose(0,2,1,3),(4,4)))\n",
    "newbell = midbell.transpose(0,2,1,3)"
   ]
  },
  {
   "cell_type": "code",
   "execution_count": 20,
   "metadata": {},
   "outputs": [
    {
     "data": {
      "text/plain": [
       "array([[ 0,  4,  2,  6],\n",
       "       [ 1,  5,  3,  7],\n",
       "       [ 8, 12, 10, 14],\n",
       "       [ 9, 13, 11, 15]])"
      ]
     },
     "execution_count": 20,
     "metadata": {},
     "output_type": "execute_result"
    }
   ],
   "source": [
    "newbell.reshape(4,4)"
   ]
  },
  {
   "cell_type": "code",
   "execution_count": 21,
   "metadata": {},
   "outputs": [],
   "source": [
    "def ppt(state):\n",
    "    re_state = state.reshape(2,2,2,2)\n",
    "    mid_state = re_state.transpose(0,2,1,3).transpose(0,1,3,2)\n",
    "    new = mid_state.transpose(0,2,1,3)\n",
    "    ppt = new.reshape(4,4)\n",
    "    return ppt"
   ]
  },
  {
   "cell_type": "code",
   "execution_count": 22,
   "metadata": {},
   "outputs": [
    {
     "data": {
      "text/plain": [
       "array([[ 0,  4,  2,  6],\n",
       "       [ 1,  5,  3,  7],\n",
       "       [ 8, 12, 10, 14],\n",
       "       [ 9, 13, 11, 15]])"
      ]
     },
     "execution_count": 22,
     "metadata": {},
     "output_type": "execute_result"
    }
   ],
   "source": [
    "ppt(bell2)"
   ]
  },
  {
   "cell_type": "code",
   "execution_count": 23,
   "metadata": {},
   "outputs": [],
   "source": [
    "def is_ent(state):\n",
    "    part = ppt(state)\n",
    "    print(part)\n",
    "    print(\"______\")\n",
    "    eigenvalues = la.eigvalsh(part)\n",
    "    print(eigenvalues)\n",
    "    print(\"_______\")\n",
    "    \n",
    "    # If any eigenvalue is negative, the state is entangled\n",
    "    if np.any(eigenvalues < 0):\n",
    "        return True  # Entangled\n",
    "    else:\n",
    "        return False  # Separable (Free)"
   ]
  },
  {
   "cell_type": "code",
   "execution_count": 24,
   "metadata": {},
   "outputs": [
    {
     "name": "stdout",
     "output_type": "stream",
     "text": [
      "[[ 0  4  2  6]\n",
      " [ 1  5  3  7]\n",
      " [ 8 12 10 14]\n",
      " [ 9 13 11 15]]\n",
      "______\n",
      "[-9.78100759  0.69492233  1.51545346 37.57063181]\n",
      "_______\n",
      "True\n"
     ]
    }
   ],
   "source": [
    "print(is_ent(bell2))"
   ]
  },
  {
   "cell_type": "code",
   "execution_count": 25,
   "metadata": {},
   "outputs": [
    {
     "name": "stdout",
     "output_type": "stream",
     "text": [
      "[[0.  0.  0.  0.5]\n",
      " [0.  0.5 0.5 0. ]\n",
      " [0.  0.  0.5 0. ]\n",
      " [0.5 0.  0.  0. ]]\n",
      "______\n",
      "[-0.5  0.5  0.5  0.5]\n",
      "_______\n",
      "True\n"
     ]
    }
   ],
   "source": [
    "print(is_ent(bell_state))"
   ]
  },
  {
   "cell_type": "code",
   "execution_count": 28,
   "metadata": {},
   "outputs": [],
   "source": [
    "einheit = np.identity(4)"
   ]
  },
  {
   "cell_type": "code",
   "execution_count": 29,
   "metadata": {},
   "outputs": [
    {
     "name": "stdout",
     "output_type": "stream",
     "text": [
      "[[1. 0. 0. 0.]\n",
      " [0. 1. 0. 0.]\n",
      " [0. 0. 1. 0.]\n",
      " [0. 0. 0. 1.]]\n",
      "______\n",
      "[1. 1. 1. 1.]\n",
      "_______\n",
      "False\n"
     ]
    }
   ],
   "source": [
    "print(is_ent(einheit))"
   ]
  },
  {
   "cell_type": "code",
   "execution_count": 27,
   "metadata": {},
   "outputs": [],
   "source": [
    "m1 = np.eye(3,3)"
   ]
  },
  {
   "cell_type": "code",
   "execution_count": 28,
   "metadata": {},
   "outputs": [],
   "source": [
    "m2 = np.arange(1,10).reshape(3,3)"
   ]
  },
  {
   "cell_type": "code",
   "execution_count": 44,
   "metadata": {},
   "outputs": [
    {
     "data": {
      "text/plain": [
       "45.0"
      ]
     },
     "execution_count": 44,
     "metadata": {},
     "output_type": "execute_result"
    }
   ],
   "source": [
    "np.tensordot(m1,m2.T,0).transpose(0,2,1,3).reshape(9,9).trace()"
   ]
  },
  {
   "cell_type": "code",
   "execution_count": 56,
   "metadata": {},
   "outputs": [
    {
     "data": {
      "text/plain": [
       "array([[1., 4., 7., 0., 0., 0., 0., 0., 0.],\n",
       "       [2., 5., 8., 0., 0., 0., 0., 0., 0.],\n",
       "       [3., 6., 9., 0., 0., 0., 0., 0., 0.],\n",
       "       [0., 0., 0., 1., 4., 7., 0., 0., 0.],\n",
       "       [0., 0., 0., 2., 5., 8., 0., 0., 0.],\n",
       "       [0., 0., 0., 3., 6., 9., 0., 0., 0.],\n",
       "       [0., 0., 0., 0., 0., 0., 1., 4., 7.],\n",
       "       [0., 0., 0., 0., 0., 0., 2., 5., 8.],\n",
       "       [0., 0., 0., 0., 0., 0., 3., 6., 9.]])"
      ]
     },
     "execution_count": 56,
     "metadata": {},
     "output_type": "execute_result"
    }
   ],
   "source": [
    "np.tensordot(m1,m2.T,0).transpose(0,2,1,3).reshape(9,9)"
   ]
  },
  {
   "cell_type": "code",
   "execution_count": null,
   "metadata": {},
   "outputs": [],
   "source": []
  },
  {
   "cell_type": "code",
   "execution_count": null,
   "metadata": {},
   "outputs": [],
   "source": []
  }
 ],
 "metadata": {
  "kernelspec": {
   "display_name": "Python 3 (ipykernel)",
   "language": "python",
   "name": "python3"
  },
  "language_info": {
   "codemirror_mode": {
    "name": "ipython",
    "version": 3
   },
   "file_extension": ".py",
   "mimetype": "text/x-python",
   "name": "python",
   "nbconvert_exporter": "python",
   "pygments_lexer": "ipython3",
   "version": "3.9.13"
  }
 },
 "nbformat": 4,
 "nbformat_minor": 4
}
