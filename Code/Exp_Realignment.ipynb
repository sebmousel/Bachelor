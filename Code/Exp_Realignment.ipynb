{
 "cells": [
  {
   "cell_type": "code",
   "execution_count": 20,
   "id": "1f214186-7278-49f5-b179-8aa39a8b7646",
   "metadata": {},
   "outputs": [],
   "source": [
    "import numpy as np\n",
    "import random as rand"
   ]
  },
  {
   "cell_type": "code",
   "execution_count": 3,
   "id": "3ea9bb33-0b13-4709-b6fe-ee9a602da2e8",
   "metadata": {},
   "outputs": [],
   "source": [
    "from scipy.linalg import svd"
   ]
  },
  {
   "cell_type": "code",
   "execution_count": 15,
   "id": "b6a896de-20be-44c9-a4be-96bca27ba399",
   "metadata": {},
   "outputs": [],
   "source": [
    "A = np.array([[1,2,3],[3,4,5],[6,7,8]])\n",
    "b,c,d = svd(A)"
   ]
  },
  {
   "cell_type": "code",
   "execution_count": 16,
   "id": "16cf16d2-b5ea-44a8-858f-04de7c104b28",
   "metadata": {},
   "outputs": [
    {
     "name": "stdout",
     "output_type": "stream",
     "text": [
      "[[-0.25000886 -0.83705046 -0.48666426]\n",
      " [-0.48517186 -0.32667037  0.81110711]\n",
      " [-0.83791637  0.43889976 -0.32444284]]\n"
     ]
    }
   ],
   "source": [
    "print(b)"
   ]
  },
  {
   "cell_type": "code",
   "execution_count": 17,
   "id": "68c3cfe4-e8aa-4cef-b625-abbde7e27704",
   "metadata": {},
   "outputs": [
    {
     "name": "stdout",
     "output_type": "stream",
     "text": [
      "[1.45576146e+01 1.03723510e+00 4.92224894e-17]\n"
     ]
    }
   ],
   "source": [
    "print(c)"
   ]
  },
  {
   "cell_type": "code",
   "execution_count": 18,
   "id": "64d8958f-af9f-4559-97de-755d3fe2fa12",
   "metadata": {},
   "outputs": [
    {
     "name": "stdout",
     "output_type": "stream",
     "text": [
      "[[-0.46250865 -0.57056873 -0.67862882]\n",
      " [ 0.78703182  0.08823069 -0.61057044]\n",
      " [ 0.40824829 -0.81649658  0.40824829]]\n"
     ]
    }
   ],
   "source": [
    "print(d)"
   ]
  },
  {
   "cell_type": "code",
   "execution_count": 92,
   "id": "21e62410-7873-4a7f-ac14-3f3d25fef85e",
   "metadata": {},
   "outputs": [
    {
     "name": "stdout",
     "output_type": "stream",
     "text": [
      "[[0.67494836 0.1030453  0.84780299]\n",
      " [0.15120931 0.97279069 0.16894004]\n",
      " [0.34677544 0.04427673 0.47200954]]\n",
      "[[0.79198207 0.2159744  0.54067059]\n",
      " [0.72561252 0.93069144 0.88242456]\n",
      " [0.71479954 0.36821536 0.50278669]]\n"
     ]
    }
   ],
   "source": [
    "A1 = np.random.rand(3,3)\n",
    "print(A1)\n",
    "\n",
    "A2 = np.random.rand(3,3)\n",
    "print(A2)"
   ]
  },
  {
   "cell_type": "code",
   "execution_count": 93,
   "id": "23710a94-d28e-450b-b58c-c30aa23e4aae",
   "metadata": {},
   "outputs": [
    {
     "name": "stdout",
     "output_type": "stream",
     "text": [
      "[0.6749483605509364, 0.15120930582306946, 0.34677543510416065, 0.10304530033999981, 0.9727906909786855, 0.044276725481969925, 0.8478029924020445, 0.16894004043085875, 0.47200953858113825]\n",
      "[0.79198207 0.72561252 0.71479954 0.2159744  0.93069144 0.36821536\n",
      " 0.54067059 0.88242456 0.50278669]\n"
     ]
    }
   ],
   "source": [
    "m,n = np.shape(A1)\n",
    "m2,n2 = np.shape(A2)\n",
    "B = []\n",
    "C = []\n",
    "\n",
    "for i in range(m):\n",
    "    for j in range(n):\n",
    "        B.append(A1[j][i])\n",
    "        \n",
    "        \n",
    "for k in range(m2):\n",
    "    for l in range(n2):\n",
    "        C.append(A2[l][k])\n",
    "        \n",
    "print(B)\n",
    "print(np.transpose(C))"
   ]
  },
  {
   "cell_type": "code",
   "execution_count": 107,
   "id": "a27ebd8f-602d-4f6f-b5f9-00e8af929937",
   "metadata": {},
   "outputs": [
    {
     "name": "stdout",
     "output_type": "stream",
     "text": [
      "[0.67494836 0.15120931 0.34677544 0.1030453  0.97279069 0.04427673\n",
      " 0.84780299 0.16894004 0.47200954]\n",
      "[0.79198207 0.72561252 0.71479954 0.2159744  0.93069144 0.36821536\n",
      " 0.54067059 0.88242456 0.50278669]\n"
     ]
    }
   ],
   "source": [
    "m,n = np.shape(A1)\n",
    "m2,n2 = np.shape(A2)\n",
    "B = np.zeros(m*n)\n",
    "C = np.zeros(m2*n2)\n",
    "list = []\n",
    "list2 = []\n",
    "x1, x2 = 0,0\n",
    "\n",
    "for i in range(m):\n",
    "    for j in range(n):\n",
    "        list.append(A1[j][i])\n",
    "\n",
    "for l in range(len(list)):\n",
    "    B[l] = np.asarray(list)[l]\n",
    "    \n",
    "for i2 in range(m2):\n",
    "    for j2 in range(n2):\n",
    "        list2.append(A2[j2][i2])\n",
    "\n",
    "for l in range(len(list2)):\n",
    "    C[l] = np.asarray(list2)[l]   \n",
    "\n",
    "\n",
    "\n",
    "print(B)\n",
    "print(C)"
   ]
  },
  {
   "cell_type": "code",
   "execution_count": 109,
   "id": "849c3d95-6188-4ba9-90a3-bff0d4ce2581",
   "metadata": {},
   "outputs": [],
   "source": [
    "D = np.outer(B,C)"
   ]
  },
  {
   "cell_type": "code",
   "execution_count": 110,
   "id": "3dd0915f-8e71-47f6-8404-950d399226ff",
   "metadata": {},
   "outputs": [],
   "source": [
    "b,c,d = svd(D)"
   ]
  },
  {
   "cell_type": "code",
   "execution_count": 112,
   "id": "ba874e25-0c09-4e60-999c-b45966ac6e85",
   "metadata": {},
   "outputs": [
    {
     "name": "stdout",
     "output_type": "stream",
     "text": [
      "[3.19436428e+00 3.24888717e-16 9.22110777e-17 6.05774593e-17\n",
      " 4.18830469e-17 1.29327791e-17 9.74814935e-18 4.18408517e-18\n",
      " 1.33302251e-33]\n"
     ]
    }
   ],
   "source": [
    "print(c)"
   ]
  },
  {
   "cell_type": "code",
   "execution_count": 116,
   "id": "52f09006-e168-439e-8c0e-c194c15735ae",
   "metadata": {},
   "outputs": [
    {
     "name": "stdout",
     "output_type": "stream",
     "text": [
      "1.1613880955730873\n"
     ]
    }
   ],
   "source": [
    "N = np.log(np.sum(c))\n",
    "print(N)"
   ]
  },
  {
   "cell_type": "code",
   "execution_count": 120,
   "id": "9074f36a-809e-41c1-8c1e-63ba449de061",
   "metadata": {},
   "outputs": [
    {
     "name": "stdout",
     "output_type": "stream",
     "text": [
      "[[0.82853752 0.62119812 0.71079702 0.03489705 0.2648349  0.6489525\n",
      "  0.10883631 0.30672738 0.21640137]\n",
      " [0.54959836 0.47144415 0.40731501 0.22710198 0.71930138 0.74007722\n",
      "  0.14882313 0.7582727  0.53241045]\n",
      " [0.06522791 0.15352751 0.58460952 0.34776683 0.52741373 0.60255728\n",
      "  0.21917287 0.72099416 0.22158468]\n",
      " [0.66320522 0.73145288 0.59770709 0.00338065 0.3643969  0.19881592\n",
      "  0.62217369 0.86409224 0.67329159]\n",
      " [0.4031022  0.55283105 0.60184048 0.42841553 0.92070516 0.98438455\n",
      "  0.14615175 0.78450357 0.37193619]\n",
      " [0.51698044 0.90634054 0.21661551 0.58711046 0.59159646 0.70468693\n",
      "  0.8228103  0.67213349 0.23329669]\n",
      " [0.61809909 0.94362259 0.40462035 0.53681664 0.81229017 0.2099283\n",
      "  0.73375585 0.74294956 0.50690248]\n",
      " [0.55926832 0.74883232 0.9756207  0.15709051 0.16901333 0.77377008\n",
      "  0.04190147 0.36348081 0.33231459]\n",
      " [0.14446585 0.04054113 0.95732772 0.62136514 0.40554636 0.63414873\n",
      "  0.63770402 0.65481295 0.96647832]]\n"
     ]
    }
   ],
   "source": [
    "A3 = np.random.rand(9,9)\n",
    "print(A3)"
   ]
  },
  {
   "cell_type": "code",
   "execution_count": 169,
   "id": "4f286818-395e-4135-a2ed-ffb8612c885e",
   "metadata": {},
   "outputs": [],
   "source": [
    "blocksize = 3,3"
   ]
  },
  {
   "cell_type": "code",
   "execution_count": 170,
   "id": "998cd198-ca58-4c51-a74c-e06d01394a35",
   "metadata": {},
   "outputs": [
    {
     "name": "stdout",
     "output_type": "stream",
     "text": [
      "[[0.2648349  0.6489525  0.10883631]\n",
      " [0.71930138 0.74007722 0.14882313]\n",
      " [0.52741373 0.60255728 0.21917287]]\n"
     ]
    }
   ],
   "source": [
    "block1 = np.array(blocksize)\n",
    "block1 = A3[0:3,4:7]\n",
    "print(block1)"
   ]
  },
  {
   "cell_type": "code",
   "execution_count": 171,
   "id": "f97217e4-3603-4b82-b2bc-438b1ca90bd3",
   "metadata": {},
   "outputs": [],
   "source": [
    "blocks = []\n",
    "\n",
    "for i in range(blocksize[0]):\n",
    "    for j in range(blocksize[1]):\n",
    "        blocks.append(A3[i*3:3+i*3,j*3:3+j*3])"
   ]
  },
  {
   "cell_type": "code",
   "execution_count": 172,
   "id": "452e1971-ff9d-46a7-b362-c53db496013c",
   "metadata": {},
   "outputs": [
    {
     "name": "stdout",
     "output_type": "stream",
     "text": [
      "[array([[0.82853752, 0.62119812, 0.71079702],\n",
      "       [0.54959836, 0.47144415, 0.40731501],\n",
      "       [0.06522791, 0.15352751, 0.58460952]]), array([[0.03489705, 0.2648349 , 0.6489525 ],\n",
      "       [0.22710198, 0.71930138, 0.74007722],\n",
      "       [0.34776683, 0.52741373, 0.60255728]]), array([[0.10883631, 0.30672738, 0.21640137],\n",
      "       [0.14882313, 0.7582727 , 0.53241045],\n",
      "       [0.21917287, 0.72099416, 0.22158468]]), array([[0.66320522, 0.73145288, 0.59770709],\n",
      "       [0.4031022 , 0.55283105, 0.60184048],\n",
      "       [0.51698044, 0.90634054, 0.21661551]]), array([[0.00338065, 0.3643969 , 0.19881592],\n",
      "       [0.42841553, 0.92070516, 0.98438455],\n",
      "       [0.58711046, 0.59159646, 0.70468693]]), array([[0.62217369, 0.86409224, 0.67329159],\n",
      "       [0.14615175, 0.78450357, 0.37193619],\n",
      "       [0.8228103 , 0.67213349, 0.23329669]]), array([[0.61809909, 0.94362259, 0.40462035],\n",
      "       [0.55926832, 0.74883232, 0.9756207 ],\n",
      "       [0.14446585, 0.04054113, 0.95732772]]), array([[0.53681664, 0.81229017, 0.2099283 ],\n",
      "       [0.15709051, 0.16901333, 0.77377008],\n",
      "       [0.62136514, 0.40554636, 0.63414873]]), array([[0.73375585, 0.74294956, 0.50690248],\n",
      "       [0.04190147, 0.36348081, 0.33231459],\n",
      "       [0.63770402, 0.65481295, 0.96647832]])]\n"
     ]
    }
   ],
   "source": [
    "print(blocks)"
   ]
  },
  {
   "cell_type": "code",
   "execution_count": 173,
   "id": "e0e6f69c-e108-47bb-81f4-36f1936717e6",
   "metadata": {},
   "outputs": [
    {
     "data": {
      "text/plain": [
       "array([[0.82853752, 0.62119812, 0.71079702],\n",
       "       [0.54959836, 0.47144415, 0.40731501],\n",
       "       [0.06522791, 0.15352751, 0.58460952]])"
      ]
     },
     "execution_count": 173,
     "metadata": {},
     "output_type": "execute_result"
    }
   ],
   "source": [
    "blocks[0]"
   ]
  },
  {
   "cell_type": "code",
   "execution_count": 175,
   "id": "b9908b77-6b95-4b6a-920a-2b8121377336",
   "metadata": {},
   "outputs": [
    {
     "name": "stdout",
     "output_type": "stream",
     "text": [
      "[0.82853752 0.54959836 0.06522791 0.62119812 0.47144415 0.15352751\n",
      " 0.71079702 0.40731501 0.58460952]\n"
     ]
    }
   ],
   "source": [
    "b0 = blocks[0]\n",
    "m,n = np.shape(b0)\n",
    "\n",
    "B = np.zeros(m*n)\n",
    "\n",
    "list = []\n",
    "\n",
    "for i in range(m):\n",
    "    for j in range(n):\n",
    "        list.append(b0[j][i])\n",
    "\n",
    "for l in range(len(list)):\n",
    "    B[l] = np.asarray(list)[l]  \n",
    "\n",
    "print(B)"
   ]
  },
  {
   "cell_type": "code",
   "execution_count": null,
   "id": "7e8345df-c473-41cc-9a3e-2760366678c6",
   "metadata": {},
   "outputs": [],
   "source": []
  }
 ],
 "metadata": {
  "kernelspec": {
   "display_name": "Python 3 (ipykernel)",
   "language": "python",
   "name": "python3"
  },
  "language_info": {
   "codemirror_mode": {
    "name": "ipython",
    "version": 3
   },
   "file_extension": ".py",
   "mimetype": "text/x-python",
   "name": "python",
   "nbconvert_exporter": "python",
   "pygments_lexer": "ipython3",
   "version": "3.9.13"
  }
 },
 "nbformat": 4,
 "nbformat_minor": 5
}
