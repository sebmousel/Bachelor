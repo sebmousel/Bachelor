{
 "cells": [
  {
   "cell_type": "code",
   "execution_count": 7,
   "id": "c8463d8c-fe0b-42b4-bf3a-0eda32689699",
   "metadata": {},
   "outputs": [],
   "source": [
    "import numpy as np\n",
    "import scipy.linalg as la"
   ]
  },
  {
   "cell_type": "code",
   "execution_count": 8,
   "id": "d25b3900",
   "metadata": {},
   "outputs": [],
   "source": [
    "#partial transpose of 9x9 density matrix\n",
    "\n",
    "def parttran(matrix, subsystem_dim = 3):\n",
    "    return matrix.reshape(3,3,3,3).transpose(0,2,1,3).transpose(0,1,3,2).transpose(0,2,1,3).reshape(9,9)"
   ]
  },
  {
   "cell_type": "code",
   "execution_count": 12,
   "id": "56b1506f",
   "metadata": {},
   "outputs": [],
   "source": [
    "#check Perez-Horodecki-Criterion\n",
    "\n",
    "def is_PPT(matrix, subsystem_dims = 3):\n",
    "\n",
    "    rho_partial_transpose = parttran(matrix)\n",
    "    \n",
    "    # Compute the eigenvalues of the partially transposed matrix\n",
    "    eigenvalues = la.eigvalsh(rho_partial_transpose)\n",
    "    \n",
    "    # If any eigenvalue is negative, the state is entangled\n",
    "    if np.any(eigenvalues < 0):\n",
    "        return True  # Entangled\n",
    "    else:\n",
    "        return False  # Separable (Free)"
   ]
  },
  {
   "cell_type": "code",
   "execution_count": 15,
   "id": "21a22bc8",
   "metadata": {},
   "outputs": [],
   "source": [
    "M = np.arange(1,82).reshape(9,9)\n",
    "einheit = np.eye(9,9)"
   ]
  },
  {
   "cell_type": "code",
   "execution_count": 16,
   "id": "d226348d",
   "metadata": {},
   "outputs": [
    {
     "data": {
      "text/plain": [
       "False"
      ]
     },
     "execution_count": 16,
     "metadata": {},
     "output_type": "execute_result"
    }
   ],
   "source": [
    "is_PPT(M)\n",
    "is_PPT(einheit)"
   ]
  },
  {
   "cell_type": "code",
   "execution_count": null,
   "id": "ed5b2e04",
   "metadata": {},
   "outputs": [],
   "source": []
  }
 ],
 "metadata": {
  "kernelspec": {
   "display_name": "base",
   "language": "python",
   "name": "python3"
  },
  "language_info": {
   "codemirror_mode": {
    "name": "ipython",
    "version": 3
   },
   "file_extension": ".py",
   "mimetype": "text/x-python",
   "name": "python",
   "nbconvert_exporter": "python",
   "pygments_lexer": "ipython3",
   "version": "3.9.13"
  }
 },
 "nbformat": 4,
 "nbformat_minor": 5
}
