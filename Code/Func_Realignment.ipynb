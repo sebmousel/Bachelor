{
 "cells": [
  {
   "cell_type": "code",
   "execution_count": 57,
   "id": "3120fccc-06cc-456e-abad-1afac6426737",
   "metadata": {},
   "outputs": [],
   "source": [
    "import numpy as np\n",
    "from scipy.linalg import svd"
   ]
  },
  {
   "cell_type": "code",
   "execution_count": 58,
   "id": "f0aeab86-524c-4d11-a44a-da37b6cede5b",
   "metadata": {},
   "outputs": [],
   "source": [
    "#get blocksize\n",
    "#get dimension of matrix\n",
    "#pull out the blocks\n",
    "#realign blocks\n",
    "#put in one matrix again\n",
    "#SVD\n",
    "#log2"
   ]
  },
  {
   "cell_type": "code",
   "execution_count": 59,
   "id": "baa32c14-b2e3-4dbc-bb9c-60a426af042a",
   "metadata": {},
   "outputs": [],
   "source": [
    "def get_dim(matrix):\n",
    "    return np.shape(matrix)"
   ]
  },
  {
   "cell_type": "code",
   "execution_count": 60,
   "id": "e7815ff3-8226-4e1b-9a7d-b3689bf62f2f",
   "metadata": {},
   "outputs": [],
   "source": [
    "def blck(matrix,blocksize = 3):\n",
    "    blocks = []\n",
    "    b = blocksize\n",
    "    for i in range(b):\n",
    "        for j in range(b):\n",
    "            blocks.append(matrix[i*b:b+i*b,j*b:b+j*b])\n",
    "    return blocks"
   ]
  },
  {
   "cell_type": "code",
   "execution_count": 61,
   "id": "c1611aff-34fb-49a2-9293-081fb62bccb7",
   "metadata": {},
   "outputs": [],
   "source": [
    "def realign(matrix, blocksize = 3):\n",
    "    \n",
    "    blocks = blck(matrix)\n",
    "    b = blocksize\n",
    "    newblocks = np.empty(0)\n",
    "    \n",
    "    for block in blocks:\n",
    "        \n",
    "        B = np.zeros(b*b)\n",
    "        list = []\n",
    "        \n",
    "        for i in range(b):\n",
    "            for j in range(b):\n",
    "                list.append(block[j][i])\n",
    "\n",
    "        for l in range(len(list)):\n",
    "            B[l] = np.asarray(list)[l]\n",
    "        \n",
    "        newblocks = np.append(newblocks, B)\n",
    "    \n",
    "    return newblocks.reshape((9,9))"
   ]
  },
  {
   "cell_type": "code",
   "execution_count": 62,
   "id": "8ff07bc2-df60-438b-9855-637ca7306e1d",
   "metadata": {},
   "outputs": [],
   "source": [
    "def SVD(matrix):\n",
    "    bl = realign(matrix)\n",
    "    a,b,c = svd(bl)\n",
    "    return b"
   ]
  },
  {
   "cell_type": "code",
   "execution_count": 63,
   "id": "85628f62-916e-42a7-8a7e-37d38ab300a6",
   "metadata": {},
   "outputs": [],
   "source": [
    "def crit(matrix):\n",
    "    arr = SVD(matrix)\n",
    "    return np.log2(np.sum(arr))"
   ]
  },
  {
   "cell_type": "code",
   "execution_count": 64,
   "id": "419f401f-fa1a-4fae-b25c-ac9e9be1a907",
   "metadata": {},
   "outputs": [
    {
     "name": "stdout",
     "output_type": "stream",
     "text": [
      "[[0.14155256 0.63820196 0.73197216 0.32441735 0.46091507 0.8028512\n",
      "  0.35568625 0.34210902 0.35801931]\n",
      " [0.14388918 0.81222014 0.03969121 0.58870797 0.92565305 0.58063411\n",
      "  0.62838341 0.0150968  0.91233234]\n",
      " [0.6733524  0.36872075 0.27376502 0.89456182 0.69442256 0.12715287\n",
      "  0.9794344  0.81508877 0.73554592]\n",
      " [0.03684515 0.55286839 0.36163659 0.8735013  0.77129721 0.98549887\n",
      "  0.45894143 0.72557977 0.80818303]\n",
      " [0.79030726 0.31240479 0.33340112 0.04273228 0.4691432  0.05787855\n",
      "  0.34522066 0.4190898  0.38423454]\n",
      " [0.61004061 0.55391983 0.14028949 0.32178206 0.96495972 0.75027486\n",
      "  0.09130004 0.57196739 0.83570971]\n",
      " [0.64741092 0.96598518 0.68495392 0.86441289 0.70119682 0.65350124\n",
      "  0.12616973 0.7269435  0.31851105]\n",
      " [0.5712434  0.04760263 0.71971471 0.49207042 0.91287732 0.54462025\n",
      "  0.40161049 0.49673235 0.61210088]\n",
      " [0.46981744 0.74049216 0.84561304 0.44554208 0.72449293 0.84261398\n",
      "  0.33717495 0.287402   0.84917475]]\n"
     ]
    }
   ],
   "source": [
    "A = np.random.rand(9,9)\n",
    "print(A)"
   ]
  },
  {
   "cell_type": "code",
   "execution_count": 65,
   "id": "7f42652c-18ba-4ed4-9d15-be48e1d5879e",
   "metadata": {},
   "outputs": [
    {
     "data": {
      "text/plain": [
       "3.3342969762392682"
      ]
     },
     "execution_count": 65,
     "metadata": {},
     "output_type": "execute_result"
    }
   ],
   "source": [
    "crit(A)"
   ]
  }
 ],
 "metadata": {
  "kernelspec": {
   "display_name": "Python 3 (ipykernel)",
   "language": "python",
   "name": "python3"
  },
  "language_info": {
   "codemirror_mode": {
    "name": "ipython",
    "version": 3
   },
   "file_extension": ".py",
   "mimetype": "text/x-python",
   "name": "python",
   "nbconvert_exporter": "python",
   "pygments_lexer": "ipython3",
   "version": "3.9.13"
  }
 },
 "nbformat": 4,
 "nbformat_minor": 5
}
