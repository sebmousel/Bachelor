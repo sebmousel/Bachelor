{
 "cells": [
  {
   "cell_type": "code",
   "execution_count": 1,
   "metadata": {},
   "outputs": [],
   "source": [
    "import numpy as np\n",
    "import scipy.linalg as la"
   ]
  },
  {
   "cell_type": "code",
   "execution_count": 11,
   "metadata": {},
   "outputs": [
    {
     "name": "stdout",
     "output_type": "stream",
     "text": [
      "1\n"
     ]
    }
   ],
   "source": [
    "list = [1,2,3]\n",
    "print(list[0%3])"
   ]
  },
  {
   "cell_type": "code",
   "execution_count": 12,
   "metadata": {},
   "outputs": [],
   "source": [
    "def partial_transpose(rho, subsystem_dims, system_to_transpose):\n",
    "    \"\"\"\n",
    "    Compute the partial transpose of a density matrix with respect to one subsystem.\n",
    "    \n",
    "    Parameters:\n",
    "    rho (np.ndarray): The density matrix of the quantum state.\n",
    "    subsystem_dims (tuple): The dimensions of the subsystems.\n",
    "    system_to_transpose (int): The subsystem (0 or 1) to perform the partial transpose on.\n",
    "    \n",
    "    Returns:\n",
    "    np.ndarray: The partially transposed density matrix.\n",
    "    \"\"\"\n",
    "    # Reshape the density matrix into a 4D tensor\n",
    "    rho_tensor = np.reshape(rho, subsystem_dims + subsystem_dims)\n",
    "    \n",
    "    if system_to_transpose == 0:\n",
    "        # Transpose the first subsystem (swap axes 1 and 2)\n",
    "        rho_tensor = np.transpose(rho_tensor, (1, 0, 3, 2))\n",
    "    else:\n",
    "        # Transpose the second subsystem (swap axes 0 and 3)\n",
    "        rho_tensor = np.transpose(rho_tensor, (1,2,3,0))\n",
    "    \n",
    "    # Reshape back into a 2D matrix\n",
    "    return np.reshape(rho_tensor, (np.prod(subsystem_dims), np.prod(subsystem_dims)))"
   ]
  },
  {
   "cell_type": "code",
   "execution_count": 13,
   "metadata": {},
   "outputs": [],
   "source": [
    "def is_entangled(density_matrix, subsystem_dims):\n",
    "    \"\"\"\n",
    "    Check if a given density matrix is entangled or free using the PPT criterion.\n",
    "    \n",
    "    Parameters:\n",
    "    density_matrix (np.ndarray): The density matrix of the quantum state.\n",
    "    subsystem_dims (tuple): The dimensions of the subsystems, e.g., (2, 2) for a 2-qubit system.\n",
    "    \n",
    "    Returns:\n",
    "    bool: True if the state is entangled, False if it is free (separable).\n",
    "    \"\"\"\n",
    "    # Perform the partial transpose on the first subsystem\n",
    "    rho_partial_transpose = partial_transpose(density_matrix, subsystem_dims, 1)\n",
    "    \n",
    "    # Compute the eigenvalues of the partially transposed matrix\n",
    "    eigenvalues = la.eigvalsh(rho_partial_transpose)\n",
    "    \n",
    "    # If any eigenvalue is negative, the state is entangled\n",
    "    if np.any(eigenvalues < 0):\n",
    "        return True  # Entangled\n",
    "    else:\n",
    "        return False  # Separable (Free)"
   ]
  },
  {
   "cell_type": "code",
   "execution_count": 14,
   "metadata": {},
   "outputs": [],
   "source": [
    "bell_state = np.array([[0, 0, 0, 0],\n",
    "                       [0, 0.5, 0.5, 0],\n",
    "                       [0, 0.5, 0.5, 0],\n",
    "                       [0, 0, 0, 0]])"
   ]
  },
  {
   "cell_type": "code",
   "execution_count": 15,
   "metadata": {},
   "outputs": [
    {
     "name": "stdout",
     "output_type": "stream",
     "text": [
      "Is the state entangled? True\n"
     ]
    }
   ],
   "source": [
    "is_entangled_state = is_entangled(bell_state, (2, 2))\n",
    "print(\"Is the state entangled?\", is_entangled_state)"
   ]
  },
  {
   "cell_type": "code",
   "execution_count": 16,
   "metadata": {},
   "outputs": [],
   "source": [
    "bell = bell_state"
   ]
  },
  {
   "cell_type": "code",
   "execution_count": 17,
   "metadata": {},
   "outputs": [
    {
     "name": "stdout",
     "output_type": "stream",
     "text": [
      "[[[[0.  0. ]\n",
      "   [0.  0. ]]\n",
      "\n",
      "  [[0.  0.5]\n",
      "   [0.5 0. ]]]\n",
      "\n",
      "\n",
      " [[[0.  0.5]\n",
      "   [0.5 0. ]]\n",
      "\n",
      "  [[0.  0. ]\n",
      "   [0.  0. ]]]]\n",
      "-------\n",
      "[0. 0.]\n",
      "------\n",
      "[[[[0.  0. ]\n",
      "   [0.  0.5]]\n",
      "\n",
      "  [[0.  0.5]\n",
      "   [0.5 0. ]]]\n",
      "\n",
      "\n",
      " [[[0.  0.5]\n",
      "   [0.5 0. ]]\n",
      "\n",
      "  [[0.  0. ]\n",
      "   [0.  0. ]]]]\n"
     ]
    }
   ],
   "source": [
    "bell = bell.reshape(2,2,2,2)\n",
    "print(bell)\n",
    "print(\"-------\")\n",
    "print(bell[0][0][0])\n",
    "bell[0][0][1] = bell[0][1][0]\n",
    "print(\"------\")\n",
    "print(bell)"
   ]
  },
  {
   "cell_type": "code",
   "execution_count": 18,
   "metadata": {},
   "outputs": [
    {
     "name": "stdout",
     "output_type": "stream",
     "text": [
      "1 [[0.  0.  0.  0.5]\n",
      " [0.  0.5 0.5 0. ]\n",
      " [0.  0.5 0.5 0. ]\n",
      " [0.  0.  0.  0. ]]\n",
      "2 [[0.  0.  0.  0.5]\n",
      " [0.  0.5 0.5 0. ]\n",
      " [0.  0.5 0.5 0. ]\n",
      " [0.  0.  0.  0. ]]\n",
      "3 [[0.  0.  0.  0.5]\n",
      " [0.  0.5 0.5 0. ]\n",
      " [0.  0.5 0.  0. ]\n",
      " [0.5 0.  0.  0. ]]\n",
      "4 [[0.  0.  0.  0.5]\n",
      " [0.  0.5 0.5 0. ]\n",
      " [0.  0.  0.5 0. ]\n",
      " [0.5 0.  0.  0. ]]\n"
     ]
    }
   ],
   "source": [
    "print(\"1\",bell.transpose(0,1,2,3).reshape(4,4))\n",
    "print(\"2\",bell.transpose(0,1,3,2).reshape(4,4))\n",
    "print(\"3\",bell.transpose(0,2,1,3).reshape(4,4))\n",
    "print(\"4\",bell.transpose(1,2,3,0).reshape(4,4))"
   ]
  },
  {
   "cell_type": "code",
   "execution_count": 19,
   "metadata": {},
   "outputs": [],
   "source": [
    "#https://stackoverflow.com/questions/32034237/how-does-numpys-transpose-method-permute-the-axes-of-an-array"
   ]
  },
  {
   "cell_type": "code",
   "execution_count": 20,
   "metadata": {},
   "outputs": [],
   "source": [
    "arr = np.arange(1,5)"
   ]
  },
  {
   "cell_type": "code",
   "execution_count": 21,
   "metadata": {},
   "outputs": [
    {
     "name": "stdout",
     "output_type": "stream",
     "text": [
      "[1 2 3 4]\n"
     ]
    }
   ],
   "source": [
    "print(arr)"
   ]
  },
  {
   "cell_type": "code",
   "execution_count": 22,
   "metadata": {},
   "outputs": [
    {
     "name": "stdout",
     "output_type": "stream",
     "text": [
      "[[1 2]\n",
      " [3 4]]\n"
     ]
    }
   ],
   "source": [
    "arr = arr.reshape(2,2)\n",
    "print(arr)"
   ]
  },
  {
   "cell_type": "code",
   "execution_count": 23,
   "metadata": {},
   "outputs": [
    {
     "data": {
      "text/plain": [
       "array([[1, 3],\n",
       "       [2, 4]])"
      ]
     },
     "execution_count": 23,
     "metadata": {},
     "output_type": "execute_result"
    }
   ],
   "source": [
    "arr.transpose(1,0)"
   ]
  },
  {
   "cell_type": "code",
   "execution_count": 24,
   "metadata": {},
   "outputs": [
    {
     "name": "stdout",
     "output_type": "stream",
     "text": [
      "[[[[ 0  2]\n",
      "   [ 1  3]]\n",
      "\n",
      "  [[ 4  6]\n",
      "   [ 5  7]]]\n",
      "\n",
      "\n",
      " [[[ 8 10]\n",
      "   [ 9 11]]\n",
      "\n",
      "  [[12 14]\n",
      "   [13 15]]]]\n"
     ]
    }
   ],
   "source": [
    "bell = np.arange(16).reshape(2,2,2,2).transpose(0,1,3,2)\n",
    "print(bell)"
   ]
  },
  {
   "cell_type": "code",
   "execution_count": 25,
   "metadata": {},
   "outputs": [
    {
     "name": "stdout",
     "output_type": "stream",
     "text": [
      "[ 0  1  2  3  4  5  6  7  8  9 10 11 12 13 14 15]\n"
     ]
    }
   ],
   "source": [
    "bell2 = np.arange(16)\n",
    "print(bell2)"
   ]
  },
  {
   "cell_type": "code",
   "execution_count": 26,
   "metadata": {},
   "outputs": [
    {
     "name": "stdout",
     "output_type": "stream",
     "text": [
      "[[[[ 0  1]\n",
      "   [ 2  3]]\n",
      "\n",
      "  [[ 4  5]\n",
      "   [ 6  7]]]\n",
      "\n",
      "\n",
      " [[[ 8  9]\n",
      "   [10 11]]\n",
      "\n",
      "  [[12 13]\n",
      "   [14 15]]]]\n"
     ]
    }
   ],
   "source": [
    "bell2 = bell2.reshape(2,2,2,2)\n",
    "print(bell2)"
   ]
  },
  {
   "cell_type": "code",
   "execution_count": 27,
   "metadata": {},
   "outputs": [
    {
     "name": "stdout",
     "output_type": "stream",
     "text": [
      "[[ 0  1  2  3]\n",
      " [ 4  5  6  7]\n",
      " [ 8  9 10 11]\n",
      " [12 13 14 15]]\n",
      "[[ 0  1  4  5]\n",
      " [ 2  3  6  7]\n",
      " [ 8  9 12 13]\n",
      " [10 11 14 15]]\n",
      "[[ 0  4  1  5]\n",
      " [ 2  6  3  7]\n",
      " [ 8 12  9 13]\n",
      " [10 14 11 15]]\n",
      "[[ 0  4  2  6]\n",
      " [ 1  5  3  7]\n",
      " [ 8 12 10 14]\n",
      " [ 9 13 11 15]]\n"
     ]
    }
   ],
   "source": [
    "print(np.reshape(bell2,(4,4)))\n",
    "firstbell = bell2.transpose(0,2,1,3)\n",
    "print(np.reshape(firstbell,(4,4)))\n",
    "midbell = firstbell.transpose(0,1,3,2)\n",
    "print(np.reshape(midbell,(4,4)))\n",
    "print(np.reshape(midbell.transpose(0,2,1,3),(4,4)))\n",
    "newbell = midbell.transpose(0,2,1,3)"
   ]
  },
  {
   "cell_type": "code",
   "execution_count": 28,
   "metadata": {},
   "outputs": [
    {
     "data": {
      "text/plain": [
       "array([[ 0,  4,  2,  6],\n",
       "       [ 1,  5,  3,  7],\n",
       "       [ 8, 12, 10, 14],\n",
       "       [ 9, 13, 11, 15]])"
      ]
     },
     "execution_count": 28,
     "metadata": {},
     "output_type": "execute_result"
    }
   ],
   "source": [
    "newbell.reshape(4,4)"
   ]
  },
  {
   "cell_type": "code",
   "execution_count": 29,
   "metadata": {},
   "outputs": [],
   "source": [
    "def ppt(state):\n",
    "    re_state = state.reshape(2,2,2,2)\n",
    "    mid_state = re_state.transpose(0,2,1,3).transpose(0,1,3,2)\n",
    "    new = mid_state.transpose(0,2,1,3)\n",
    "    ppt = new.reshape(4,4)\n",
    "    return ppt"
   ]
  },
  {
   "cell_type": "code",
   "execution_count": 30,
   "metadata": {},
   "outputs": [
    {
     "data": {
      "text/plain": [
       "array([[ 0,  4,  2,  6],\n",
       "       [ 1,  5,  3,  7],\n",
       "       [ 8, 12, 10, 14],\n",
       "       [ 9, 13, 11, 15]])"
      ]
     },
     "execution_count": 30,
     "metadata": {},
     "output_type": "execute_result"
    }
   ],
   "source": [
    "ppt(bell2)"
   ]
  },
  {
   "cell_type": "code",
   "execution_count": 31,
   "metadata": {},
   "outputs": [],
   "source": [
    "def is_ent(state):\n",
    "    part = ppt(state)\n",
    "    print(part)\n",
    "    print(\"______\")\n",
    "    eigenvalues = la.eigvalsh(part)\n",
    "    print(eigenvalues)\n",
    "    print(\"_______\")\n",
    "    \n",
    "    # If any eigenvalue is negative, the state is entangled\n",
    "    if np.any(eigenvalues < 0):\n",
    "        return True  # Entangled\n",
    "    else:\n",
    "        return False  # Separable (Free)"
   ]
  },
  {
   "cell_type": "code",
   "execution_count": 32,
   "metadata": {},
   "outputs": [
    {
     "name": "stdout",
     "output_type": "stream",
     "text": [
      "[[ 0  4  2  6]\n",
      " [ 1  5  3  7]\n",
      " [ 8 12 10 14]\n",
      " [ 9 13 11 15]]\n",
      "______\n",
      "[-9.78100759  0.69492233  1.51545346 37.57063181]\n",
      "_______\n",
      "True\n"
     ]
    }
   ],
   "source": [
    "print(is_ent(bell2))"
   ]
  },
  {
   "cell_type": "code",
   "execution_count": 33,
   "metadata": {},
   "outputs": [
    {
     "name": "stdout",
     "output_type": "stream",
     "text": [
      "[[0.  0.  0.  0.5]\n",
      " [0.  0.5 0.5 0. ]\n",
      " [0.  0.  0.5 0. ]\n",
      " [0.5 0.  0.  0. ]]\n",
      "______\n",
      "[-0.5  0.5  0.5  0.5]\n",
      "_______\n",
      "True\n"
     ]
    }
   ],
   "source": [
    "print(is_ent(bell_state))"
   ]
  },
  {
   "cell_type": "code",
   "execution_count": 34,
   "metadata": {},
   "outputs": [],
   "source": [
    "einheit = np.identity(4)"
   ]
  },
  {
   "cell_type": "code",
   "execution_count": 35,
   "metadata": {},
   "outputs": [
    {
     "name": "stdout",
     "output_type": "stream",
     "text": [
      "[[1. 0. 0. 0.]\n",
      " [0. 1. 0. 0.]\n",
      " [0. 0. 1. 0.]\n",
      " [0. 0. 0. 1.]]\n",
      "______\n",
      "[1. 1. 1. 1.]\n",
      "_______\n",
      "False\n"
     ]
    }
   ],
   "source": [
    "print(is_ent(einheit))"
   ]
  },
  {
   "cell_type": "code",
   "execution_count": 36,
   "metadata": {},
   "outputs": [],
   "source": [
    "m1 = np.eye(3,3)"
   ]
  },
  {
   "cell_type": "code",
   "execution_count": 37,
   "metadata": {},
   "outputs": [],
   "source": [
    "m2 = np.arange(1,10).reshape(3,3)"
   ]
  },
  {
   "cell_type": "code",
   "execution_count": 38,
   "metadata": {},
   "outputs": [
    {
     "data": {
      "text/plain": [
       "45.0"
      ]
     },
     "execution_count": 38,
     "metadata": {},
     "output_type": "execute_result"
    }
   ],
   "source": [
    "np.tensordot(m1,m2.T,0).transpose(0,2,1,3).reshape(9,9).trace()"
   ]
  },
  {
   "cell_type": "code",
   "execution_count": 48,
   "metadata": {},
   "outputs": [
    {
     "data": {
      "text/plain": [
       "array([[[[1., 4., 7.],\n",
       "         [0., 0., 0.],\n",
       "         [0., 0., 0.]],\n",
       "\n",
       "        [[2., 5., 8.],\n",
       "         [0., 0., 0.],\n",
       "         [0., 0., 0.]],\n",
       "\n",
       "        [[3., 6., 9.],\n",
       "         [0., 0., 0.],\n",
       "         [0., 0., 0.]]],\n",
       "\n",
       "\n",
       "       [[[0., 0., 0.],\n",
       "         [1., 4., 7.],\n",
       "         [0., 0., 0.]],\n",
       "\n",
       "        [[0., 0., 0.],\n",
       "         [2., 5., 8.],\n",
       "         [0., 0., 0.]],\n",
       "\n",
       "        [[0., 0., 0.],\n",
       "         [3., 6., 9.],\n",
       "         [0., 0., 0.]]],\n",
       "\n",
       "\n",
       "       [[[0., 0., 0.],\n",
       "         [0., 0., 0.],\n",
       "         [1., 4., 7.]],\n",
       "\n",
       "        [[0., 0., 0.],\n",
       "         [0., 0., 0.],\n",
       "         [2., 5., 8.]],\n",
       "\n",
       "        [[0., 0., 0.],\n",
       "         [0., 0., 0.],\n",
       "         [3., 6., 9.]]]])"
      ]
     },
     "execution_count": 48,
     "metadata": {},
     "output_type": "execute_result"
    }
   ],
   "source": [
    "np.tensordot(m1,m2.T,0).transpose(0,2,1,3).reshape"
   ]
  },
  {
   "cell_type": "code",
   "execution_count": 71,
   "metadata": {},
   "outputs": [
    {
     "name": "stdout",
     "output_type": "stream",
     "text": [
      "[[ 1  2  3  4  5  6  7  8  9]\n",
      " [10 11 12 13 14 15 16 17 18]\n",
      " [19 20 21 22 23 24 25 26 27]\n",
      " [28 29 30 31 32 33 34 35 36]\n",
      " [37 38 39 40 41 42 43 44 45]\n",
      " [46 47 48 49 50 51 52 53 54]\n",
      " [55 56 57 58 59 60 61 62 63]\n",
      " [64 65 66 67 68 69 70 71 72]\n",
      " [73 74 75 76 77 78 79 80 81]]\n"
     ]
    }
   ],
   "source": [
    "M = np.arange(1,82).reshape(3,3,3,3).reshape(9,9)\n",
    "print(M)"
   ]
  },
  {
   "cell_type": "code",
   "execution_count": 80,
   "metadata": {},
   "outputs": [
    {
     "name": "stdout",
     "output_type": "stream",
     "text": [
      "[[ 1 10 19  4 13 22  7 16 25]\n",
      " [ 2 11 20  5 14 23  8 17 26]\n",
      " [ 3 12 21  6 15 24  9 18 27]\n",
      " [28 37 46 31 40 49 34 43 52]\n",
      " [29 38 47 32 41 50 35 44 53]\n",
      " [30 39 48 33 42 51 36 45 54]\n",
      " [55 64 73 58 67 76 61 70 79]\n",
      " [56 65 74 59 68 77 62 71 80]\n",
      " [57 66 75 60 69 78 63 72 81]]\n"
     ]
    }
   ],
   "source": [
    "print(M.reshape(3,3,3,3).transpose(0,2,1,3).transpose(0,1,3,2).transpose(0,2,1,3).reshape(9,9))\n"
   ]
  },
  {
   "cell_type": "code",
   "execution_count": 84,
   "metadata": {},
   "outputs": [],
   "source": [
    "def parttran(matrix):\n",
    "    return matrix.reshape(3,3,3,3).transpose(0,2,1,3).transpose(0,1,3,2).transpose(0,2,1,3).reshape(9,9)"
   ]
  },
  {
   "cell_type": "code",
   "execution_count": 85,
   "metadata": {},
   "outputs": [
    {
     "data": {
      "text/plain": [
       "array([[ 1, 10, 19,  4, 13, 22,  7, 16, 25],\n",
       "       [ 2, 11, 20,  5, 14, 23,  8, 17, 26],\n",
       "       [ 3, 12, 21,  6, 15, 24,  9, 18, 27],\n",
       "       [28, 37, 46, 31, 40, 49, 34, 43, 52],\n",
       "       [29, 38, 47, 32, 41, 50, 35, 44, 53],\n",
       "       [30, 39, 48, 33, 42, 51, 36, 45, 54],\n",
       "       [55, 64, 73, 58, 67, 76, 61, 70, 79],\n",
       "       [56, 65, 74, 59, 68, 77, 62, 71, 80],\n",
       "       [57, 66, 75, 60, 69, 78, 63, 72, 81]])"
      ]
     },
     "execution_count": 85,
     "metadata": {},
     "output_type": "execute_result"
    }
   ],
   "source": [
    "parttran(M)"
   ]
  },
  {
   "cell_type": "code",
   "execution_count": null,
   "metadata": {},
   "outputs": [],
   "source": []
  }
 ],
 "metadata": {
  "kernelspec": {
   "display_name": "base",
   "language": "python",
   "name": "python3"
  },
  "language_info": {
   "codemirror_mode": {
    "name": "ipython",
    "version": 3
   },
   "file_extension": ".py",
   "mimetype": "text/x-python",
   "name": "python",
   "nbconvert_exporter": "python",
   "pygments_lexer": "ipython3",
   "version": "3.9.13"
  }
 },
 "nbformat": 4,
 "nbformat_minor": 4
}
