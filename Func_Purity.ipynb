{
 "cells": [
  {
   "cell_type": "code",
   "execution_count": 1,
   "id": "1c29daa3-94cd-4275-ba29-d6b6c85351e7",
   "metadata": {},
   "outputs": [],
   "source": [
    "import numpy as np"
   ]
  },
  {
   "cell_type": "code",
   "execution_count": null,
   "id": "3c8a432d-f7c8-496d-b010-09bcafb21279",
   "metadata": {},
   "outputs": [],
   "source": [
    "#to find trace, use np.trace"
   ]
  },
  {
   "cell_type": "code",
   "execution_count": 10,
   "id": "e5a4128d-d3f6-4398-a1d0-893114881eba",
   "metadata": {},
   "outputs": [],
   "source": [
    "def purity(matrix):\n",
    "    return np.trace(np.matmul(matrix, matrix))"
   ]
  },
  {
   "cell_type": "code",
   "execution_count": 11,
   "id": "020c1ffb-51c9-4b47-a705-80847dfe8694",
   "metadata": {},
   "outputs": [],
   "source": [
    "A = np.random.rand(9,9)"
   ]
  },
  {
   "cell_type": "code",
   "execution_count": 12,
   "id": "7478c5e8-bcf0-4e1f-b697-50178be5c2b5",
   "metadata": {},
   "outputs": [
    {
     "name": "stdout",
     "output_type": "stream",
     "text": [
      "[[0.11545748 0.37497711 0.18265303 0.69468096 0.39050021 0.00638079\n",
      "  0.16350591 0.00587648 0.03232704]\n",
      " [0.40009881 0.78080787 0.64010959 0.05668599 0.32160738 0.08422677\n",
      "  0.01249368 0.63617657 0.26307441]\n",
      " [0.68257977 0.74931859 0.5231947  0.21288058 0.80465793 0.1014572\n",
      "  0.03604357 0.74311276 0.44740966]\n",
      " [0.28448149 0.82228453 0.09092596 0.17973106 0.04984316 0.63913926\n",
      "  0.58459748 0.34156958 0.13184349]\n",
      " [0.99707181 0.59243671 0.64775376 0.81438392 0.52839276 0.80586054\n",
      "  0.78056425 0.38222548 0.07369859]\n",
      " [0.89834777 0.82087966 0.84267621 0.83596234 0.86556547 0.15948301\n",
      "  0.55496654 0.89348025 0.61371912]\n",
      " [0.61439914 0.81720281 0.03731815 0.76053571 0.2659055  0.12274208\n",
      "  0.15817866 0.44577694 0.67142546]\n",
      " [0.68170424 0.99873887 0.02790803 0.66676983 0.75556385 0.51705901\n",
      "  0.3272091  0.48357784 0.66836146]\n",
      " [0.20565095 0.37278601 0.29812817 0.15919076 0.26617553 0.50447842\n",
      "  0.58152734 0.51234839 0.37109384]]\n"
     ]
    }
   ],
   "source": [
    "print(A)"
   ]
  },
  {
   "cell_type": "code",
   "execution_count": 13,
   "id": "624c06a0-fdaa-43ae-868b-e4c6ca111a0d",
   "metadata": {},
   "outputs": [
    {
     "data": {
      "text/plain": [
       "16.609911471532367"
      ]
     },
     "execution_count": 13,
     "metadata": {},
     "output_type": "execute_result"
    }
   ],
   "source": [
    "purity(A)"
   ]
  },
  {
   "cell_type": "code",
   "execution_count": null,
   "id": "5d5d1393-3496-46c3-bedf-36df7028c0c0",
   "metadata": {},
   "outputs": [],
   "source": []
  }
 ],
 "metadata": {
  "kernelspec": {
   "display_name": "Python 3 (ipykernel)",
   "language": "python",
   "name": "python3"
  },
  "language_info": {
   "codemirror_mode": {
    "name": "ipython",
    "version": 3
   },
   "file_extension": ".py",
   "mimetype": "text/x-python",
   "name": "python",
   "nbconvert_exporter": "python",
   "pygments_lexer": "ipython3",
   "version": "3.9.13"
  }
 },
 "nbformat": 4,
 "nbformat_minor": 5
}
