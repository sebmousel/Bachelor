{
 "cells": [
  {
   "cell_type": "code",
   "execution_count": 1,
   "metadata": {},
   "outputs": [],
   "source": [
    "from Func_Col import *\n",
    "import numpy as np"
   ]
  },
  {
   "cell_type": "code",
   "execution_count": 2,
   "metadata": {},
   "outputs": [
    {
     "name": "stdout",
     "output_type": "stream",
     "text": [
      "[array([1.+0.j, 0.+0.j, 0.+0.j]), array([0.+0.j, 1.+0.j, 0.+0.j]), array([0.+0.j, 0.+0.j, 1.+0.j])]\n"
     ]
    }
   ],
   "source": [
    "print(stvec)"
   ]
  },
  {
   "cell_type": "code",
   "execution_count": 3,
   "metadata": {},
   "outputs": [
    {
     "name": "stdout",
     "output_type": "stream",
     "text": [
      "0,0\n",
      "[0.57735027+0.j 0.        +0.j 0.        +0.j 0.        +0.j\n",
      " 0.57735027+0.j 0.        +0.j 0.        +0.j 0.        +0.j\n",
      " 0.57735027+0.j]\n",
      "0,1\n",
      "[ 0.57735027+0.j   0.        +0.j   0.        +0.j   0.        +0.j\n",
      " -0.28867513+0.5j  0.        +0.j   0.        +0.j   0.        +0.j\n",
      " -0.28867513-0.5j]\n",
      "0,2\n",
      "[ 0.57735027+0.j   0.        +0.j   0.        +0.j   0.        +0.j\n",
      " -0.28867513-0.5j  0.        +0.j   0.        +0.j   0.        +0.j\n",
      " -0.28867513+0.5j]\n",
      "1,0\n",
      "[0.        +0.j 0.57735027+0.j 0.        +0.j 0.        +0.j\n",
      " 0.        +0.j 0.57735027+0.j 0.57735027+0.j 0.        +0.j\n",
      " 0.        +0.j]\n",
      "1,1\n",
      "[ 0.        +0.j   0.57735027+0.j   0.        +0.j   0.        +0.j\n",
      "  0.        +0.j  -0.28867513+0.5j -0.28867513-0.5j  0.        +0.j\n",
      "  0.        +0.j ]\n",
      "1,2\n",
      "[ 0.        +0.j   0.57735027+0.j   0.        +0.j   0.        +0.j\n",
      "  0.        +0.j  -0.28867513-0.5j -0.28867513+0.5j  0.        +0.j\n",
      "  0.        +0.j ]\n",
      "2,0\n",
      "[0.        +0.j 0.        +0.j 0.57735027+0.j 0.57735027+0.j\n",
      " 0.        +0.j 0.        +0.j 0.        +0.j 0.57735027+0.j\n",
      " 0.        +0.j]\n",
      "2,1\n",
      "[ 0.        +0.j   0.        +0.j   0.57735027+0.j  -0.28867513+0.5j\n",
      "  0.        +0.j   0.        +0.j   0.        +0.j  -0.28867513-0.5j\n",
      "  0.        +0.j ]\n",
      "2,2\n",
      "[ 0.        +0.j   0.        +0.j   0.57735027+0.j  -0.28867513-0.5j\n",
      "  0.        +0.j   0.        +0.j   0.        +0.j  -0.28867513+0.5j\n",
      "  0.        +0.j ]\n"
     ]
    }
   ],
   "source": [
    "for m in range(3):\n",
    "    for n in range(3):\n",
    "        print(f\"{m},{n}\")\n",
    "        print(bell_con(m,n))"
   ]
  },
  {
   "cell_type": "code",
   "execution_count": 4,
   "metadata": {},
   "outputs": [
    {
     "name": "stdout",
     "output_type": "stream",
     "text": [
      "[array([0.57735027+0.j, 0.        +0.j, 0.        +0.j, 0.        +0.j,\n",
      "       0.57735027+0.j, 0.        +0.j, 0.        +0.j, 0.        +0.j,\n",
      "       0.57735027+0.j]), array([ 0.57735027+0.j ,  0.        +0.j ,  0.        +0.j ,\n",
      "        0.        +0.j , -0.28867513+0.5j,  0.        +0.j ,\n",
      "        0.        +0.j ,  0.        +0.j , -0.28867513-0.5j]), array([ 0.57735027+0.j ,  0.        +0.j ,  0.        +0.j ,\n",
      "        0.        +0.j , -0.28867513-0.5j,  0.        +0.j ,\n",
      "        0.        +0.j ,  0.        +0.j , -0.28867513+0.5j]), array([0.        +0.j, 0.57735027+0.j, 0.        +0.j, 0.        +0.j,\n",
      "       0.        +0.j, 0.57735027+0.j, 0.57735027+0.j, 0.        +0.j,\n",
      "       0.        +0.j]), array([ 0.        +0.j ,  0.57735027+0.j ,  0.        +0.j ,\n",
      "        0.        +0.j ,  0.        +0.j , -0.28867513+0.5j,\n",
      "       -0.28867513-0.5j,  0.        +0.j ,  0.        +0.j ]), array([ 0.        +0.j ,  0.57735027+0.j ,  0.        +0.j ,\n",
      "        0.        +0.j ,  0.        +0.j , -0.28867513-0.5j,\n",
      "       -0.28867513+0.5j,  0.        +0.j ,  0.        +0.j ]), array([0.        +0.j, 0.        +0.j, 0.57735027+0.j, 0.57735027+0.j,\n",
      "       0.        +0.j, 0.        +0.j, 0.        +0.j, 0.57735027+0.j,\n",
      "       0.        +0.j]), array([ 0.        +0.j ,  0.        +0.j ,  0.57735027+0.j ,\n",
      "       -0.28867513+0.5j,  0.        +0.j ,  0.        +0.j ,\n",
      "        0.        +0.j , -0.28867513-0.5j,  0.        +0.j ]), array([ 0.        +0.j ,  0.        +0.j ,  0.57735027+0.j ,\n",
      "       -0.28867513-0.5j,  0.        +0.j ,  0.        +0.j ,\n",
      "        0.        +0.j , -0.28867513+0.5j,  0.        +0.j ])]\n"
     ]
    }
   ],
   "source": [
    "bell_states = bell_state()\n",
    "print(bell_states)"
   ]
  },
  {
   "cell_type": "code",
   "execution_count": 5,
   "metadata": {},
   "outputs": [
    {
     "name": "stdout",
     "output_type": "stream",
     "text": [
      "[[0.4, 0, 0.1333333333333333], [0, 0.2, 0.1333333333333333], [0, 0, 0.1333333333333333]]\n"
     ]
    }
   ],
   "source": [
    "d = dkl(1/5)\n",
    "print(d)"
   ]
  },
  {
   "cell_type": "code",
   "execution_count": 6,
   "metadata": {},
   "outputs": [
    {
     "name": "stdout",
     "output_type": "stream",
     "text": [
      "[0.23094011+0.j 0.        +0.j 0.        +0.j 0.        +0.j\n",
      " 0.23094011+0.j 0.        +0.j 0.        +0.j 0.        +0.j\n",
      " 0.23094011+0.j]\n",
      "[ 0.+0.j  0.+0.j  0.+0.j  0.+0.j -0.+0.j  0.+0.j  0.+0.j  0.+0.j  0.-0.j]\n",
      "[ 0.07698004+0.j          0.        +0.j          0.        +0.j\n",
      "  0.        +0.j         -0.03849002-0.06666667j  0.        +0.j\n",
      "  0.        +0.j          0.        +0.j         -0.03849002+0.06666667j]\n",
      "[0.+0.j 0.+0.j 0.+0.j 0.+0.j 0.+0.j 0.+0.j 0.+0.j 0.+0.j 0.+0.j]\n",
      "[ 0.        +0.j   0.11547005+0.j   0.        +0.j   0.        +0.j\n",
      "  0.        +0.j  -0.05773503+0.1j -0.05773503-0.1j  0.        +0.j\n",
      "  0.        +0.j ]\n",
      "[ 0.        +0.j          0.07698004+0.j          0.        +0.j\n",
      "  0.        +0.j          0.        +0.j         -0.03849002-0.06666667j\n",
      " -0.03849002+0.06666667j  0.        +0.j          0.        +0.j        ]\n",
      "[0.+0.j 0.+0.j 0.+0.j 0.+0.j 0.+0.j 0.+0.j 0.+0.j 0.+0.j 0.+0.j]\n",
      "[ 0.+0.j  0.+0.j  0.+0.j -0.+0.j  0.+0.j  0.+0.j  0.+0.j  0.-0.j  0.+0.j]\n",
      "[ 0.        +0.j          0.        +0.j          0.07698004+0.j\n",
      " -0.03849002-0.06666667j  0.        +0.j          0.        +0.j\n",
      "  0.        +0.j         -0.03849002+0.06666667j  0.        +0.j        ]\n"
     ]
    }
   ],
   "source": [
    "for m in range(3):\n",
    "    for n in range(3):\n",
    "        print(d[m][n]*bell_states[3*m+n])"
   ]
  },
  {
   "cell_type": "code",
   "execution_count": 7,
   "metadata": {},
   "outputs": [
    {
     "name": "stdout",
     "output_type": "stream",
     "text": [
      "[ 0.48112522+0.j          0.19245009+0.j         -0.09622504+0.j\n",
      "  0.04811252+0.08333333j  0.62546279+0.08333333j -0.09622504+0.33333333j\n",
      " -0.09622504-0.33333333j  0.04811252-0.08333333j  0.62546279-0.08333333j]\n"
     ]
    }
   ],
   "source": [
    "print(rhob(0.5))"
   ]
  },
  {
   "cell_type": "code",
   "execution_count": 15,
   "metadata": {},
   "outputs": [
    {
     "name": "stdout",
     "output_type": "stream",
     "text": [
      "[[1.  1.  0.  0. ]\n",
      " [1.  1.5 0.  0. ]\n",
      " [0.  0.  1.  0. ]\n",
      " [0.  0.  0.  1. ]]\n"
     ]
    },
    {
     "data": {
      "text/plain": [
       "array([1., 1., 0., 0.])"
      ]
     },
     "execution_count": 15,
     "metadata": {},
     "output_type": "execute_result"
    }
   ],
   "source": [
    "mom = [1,1,0,0.0]\n",
    "\n",
    "l = lorentz_boost_k(mom)\n",
    "print(l)\n",
    "np.matmul(l,np.array([1,0,0,0]))\n"
   ]
  },
  {
   "cell_type": "code",
   "execution_count": 9,
   "metadata": {},
   "outputs": [
    {
     "data": {
      "text/plain": [
       "array([[1.33743495, 0.        , 0.        , 0.88810598],\n",
       "       [0.        , 1.        , 0.        , 0.        ],\n",
       "       [0.        , 0.        , 1.        , 0.        ],\n",
       "       [0.88810598, 0.        , 0.        , 1.33743495]])"
      ]
     },
     "execution_count": 9,
     "metadata": {},
     "output_type": "execute_result"
    }
   ],
   "source": [
    "vel = [0,0,1]\n",
    "rap = 0.8\n",
    "\n",
    "lam_boost(vel, rap)"
   ]
  },
  {
   "cell_type": "code",
   "execution_count": 10,
   "metadata": {},
   "outputs": [
    {
     "name": "stdout",
     "output_type": "stream",
     "text": [
      "[[ 1.00000000e+00  0.00000000e+00  1.26150041e-01  6.64036770e-01]\n",
      " [ 0.00000000e+00  1.00000000e+00  0.00000000e+00  0.00000000e+00]\n",
      " [-3.85464573e-16  0.00000000e+00  8.73849959e-01 -6.64036770e-01]\n",
      " [ 1.36325847e-16  0.00000000e+00  3.32018385e-01  7.47699918e-01]]\n"
     ]
    }
   ],
   "source": [
    "print(wigner(vel,rap,mom))"
   ]
  },
  {
   "cell_type": "code",
   "execution_count": null,
   "metadata": {},
   "outputs": [],
   "source": []
  }
 ],
 "metadata": {
  "kernelspec": {
   "display_name": "base",
   "language": "python",
   "name": "python3"
  },
  "language_info": {
   "codemirror_mode": {
    "name": "ipython",
    "version": 3
   },
   "file_extension": ".py",
   "mimetype": "text/x-python",
   "name": "python",
   "nbconvert_exporter": "python",
   "pygments_lexer": "ipython3",
   "version": "3.9.13"
  }
 },
 "nbformat": 4,
 "nbformat_minor": 2
}
