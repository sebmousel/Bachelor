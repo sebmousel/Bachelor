{
 "cells": [
  {
   "cell_type": "code",
   "execution_count": 5,
   "metadata": {},
   "outputs": [],
   "source": [
    "from Func_Col import *\n",
    "import numpy as np\n",
    "import matplotlib.pyplot as plt"
   ]
  },
  {
   "cell_type": "code",
   "execution_count": 6,
   "metadata": {},
   "outputs": [],
   "source": [
    "val = []\n",
    "for n in np.linspace(0, 1/3 , 1000):\n",
    "    val.append(realign_log(rhob(n,generate_bell_states())))"
   ]
  },
  {
   "cell_type": "code",
   "execution_count": 7,
   "metadata": {},
   "outputs": [
    {
     "data": {
      "text/plain": [
       "[<matplotlib.lines.Line2D at 0x2a2f6c6c220>]"
      ]
     },
     "execution_count": 7,
     "metadata": {},
     "output_type": "execute_result"
    },
    {
     "data": {
      "image/png": "[encoded data removed]",
      "text/plain": [
       "<Figure size 640x480 with 1 Axes>"
      ]
     },
     "metadata": {},
     "output_type": "display_data"
    }
   ],
   "source": [
    "plt.plot(np.linspace(0,1/3,1000), val)"
   ]
  },
  {
   "cell_type": "code",
   "execution_count": 8,
   "metadata": {},
   "outputs": [
    {
     "name": "stdout",
     "output_type": "stream",
     "text": [
      "[array([0.57735027+0.j, 0.        +0.j, 0.        +0.j, 0.        +0.j,\n",
      "       0.57735027+0.j, 0.        +0.j, 0.        +0.j, 0.        +0.j,\n",
      "       0.57735027+0.j]), array([0.        +0.j, 0.57735027+0.j, 0.        +0.j, 0.        +0.j,\n",
      "       0.        +0.j, 0.57735027+0.j, 0.57735027+0.j, 0.        +0.j,\n",
      "       0.        +0.j]), array([0.        +0.j, 0.        +0.j, 0.57735027+0.j, 0.57735027+0.j,\n",
      "       0.        +0.j, 0.        +0.j, 0.        +0.j, 0.57735027+0.j,\n",
      "       0.        +0.j]), array([ 0.57735027+0.j ,  0.        +0.j ,  0.        +0.j ,\n",
      "        0.        +0.j , -0.28867513+0.5j,  0.        +0.j ,\n",
      "        0.        +0.j ,  0.        +0.j , -0.28867513-0.5j]), array([ 0.        +0.j ,  0.57735027+0.j ,  0.        +0.j ,\n",
      "        0.        +0.j ,  0.        +0.j , -0.28867513+0.5j,\n",
      "       -0.28867513-0.5j,  0.        +0.j ,  0.        +0.j ]), array([ 0.        +0.j ,  0.        +0.j ,  0.57735027+0.j ,\n",
      "       -0.28867513+0.5j,  0.        +0.j ,  0.        +0.j ,\n",
      "        0.        +0.j , -0.28867513-0.5j,  0.        +0.j ]), array([ 0.57735027+0.j ,  0.        +0.j ,  0.        +0.j ,\n",
      "        0.        +0.j , -0.28867513-0.5j,  0.        +0.j ,\n",
      "        0.        +0.j ,  0.        +0.j , -0.28867513+0.5j]), array([ 0.        +0.j ,  0.57735027+0.j ,  0.        +0.j ,\n",
      "        0.        +0.j ,  0.        +0.j , -0.28867513-0.5j,\n",
      "       -0.28867513+0.5j,  0.        +0.j ,  0.        +0.j ]), array([ 0.        +0.j ,  0.        +0.j ,  0.57735027+0.j ,\n",
      "       -0.28867513-0.5j,  0.        +0.j ,  0.        +0.j ,\n",
      "        0.        +0.j , -0.28867513+0.5j,  0.        +0.j ])]\n"
     ]
    }
   ],
   "source": [
    "print(generate_bell_states())"
   ]
  },
  {
   "cell_type": "code",
   "execution_count": 20,
   "metadata": {},
   "outputs": [],
   "source": [
    "rho = rhob(0,generate_bell_states())"
   ]
  },
  {
   "cell_type": "code",
   "execution_count": 10,
   "metadata": {},
   "outputs": [
    {
     "data": {
      "text/plain": [
       "array([[0.33333333+0.j, 0.        +0.j, 0.        +0.j, 0.        +0.j,\n",
       "        0.33333333+0.j, 0.        +0.j, 0.        +0.j, 0.        +0.j,\n",
       "        0.33333333+0.j],\n",
       "       [0.        +0.j, 0.        +0.j, 0.        +0.j, 0.        +0.j,\n",
       "        0.        +0.j, 0.        +0.j, 0.        +0.j, 0.        +0.j,\n",
       "        0.        +0.j],\n",
       "       [0.        +0.j, 0.        +0.j, 0.        +0.j, 0.        +0.j,\n",
       "        0.        +0.j, 0.        +0.j, 0.        +0.j, 0.        +0.j,\n",
       "        0.        +0.j],\n",
       "       [0.        +0.j, 0.        +0.j, 0.        +0.j, 0.        +0.j,\n",
       "        0.        +0.j, 0.        +0.j, 0.        +0.j, 0.        +0.j,\n",
       "        0.        +0.j],\n",
       "       [0.33333333+0.j, 0.        +0.j, 0.        +0.j, 0.        +0.j,\n",
       "        0.33333333+0.j, 0.        +0.j, 0.        +0.j, 0.        +0.j,\n",
       "        0.33333333+0.j],\n",
       "       [0.        +0.j, 0.        +0.j, 0.        +0.j, 0.        +0.j,\n",
       "        0.        +0.j, 0.        +0.j, 0.        +0.j, 0.        +0.j,\n",
       "        0.        +0.j],\n",
       "       [0.        +0.j, 0.        +0.j, 0.        +0.j, 0.        +0.j,\n",
       "        0.        +0.j, 0.        +0.j, 0.        +0.j, 0.        +0.j,\n",
       "        0.        +0.j],\n",
       "       [0.        +0.j, 0.        +0.j, 0.        +0.j, 0.        +0.j,\n",
       "        0.        +0.j, 0.        +0.j, 0.        +0.j, 0.        +0.j,\n",
       "        0.        +0.j],\n",
       "       [0.33333333+0.j, 0.        +0.j, 0.        +0.j, 0.        +0.j,\n",
       "        0.33333333+0.j, 0.        +0.j, 0.        +0.j, 0.        +0.j,\n",
       "        0.33333333+0.j]])"
      ]
     },
     "execution_count": 10,
     "metadata": {},
     "output_type": "execute_result"
    }
   ],
   "source": [
    "np.outer(generate_bell_states()[0],generate_bell_states()[0].conj())"
   ]
  },
  {
   "cell_type": "code",
   "execution_count": 17,
   "metadata": {},
   "outputs": [
    {
     "name": "stdout",
     "output_type": "stream",
     "text": [
      "[[1.         0.         0.         0.        ]\n",
      " [0.         0.90817772 0.         0.        ]\n",
      " [0.         0.         1.         0.        ]\n",
      " [0.         0.4185848  0.         0.90817772]]\n",
      "\n",
      "\n",
      " [[0.90817772 0.         0.        ]\n",
      " [0.         1.         0.        ]\n",
      " [0.4185848  0.         0.90817772]]\n"
     ]
    }
   ],
   "source": [
    "e = [0,0,1]\n",
    "xi = 0.8\n",
    "momentum = [2,np.sqrt(3),0,0]\n",
    "\n",
    "w = (wigner(e,xi,momentum))\n",
    "\n",
    "for m in range(4):\n",
    "    for n in range(4):\n",
    "        if w[m,n] < 1e-10:\n",
    "            w[m,n] = 0\n",
    "        else:\n",
    "            pass\n",
    "\n",
    "print(w)\n",
    "\n",
    "w3d = w[1:,1:]\n",
    "print(2*\"\\n\",w3d)"
   ]
  },
  {
   "cell_type": "code",
   "execution_count": 24,
   "metadata": {},
   "outputs": [],
   "source": [
    "V = np.array([\n",
    "        [-1, 1j, 0] / np.sqrt(2),\n",
    "        [0, 0, np.sqrt(2) / np.sqrt(2)],\n",
    "        [1, 1j, 0] / np.sqrt(2)])\n",
    "\n",
    "d = np.matmul(V,np.matmul(w3d,V.conjugate().transpose()))"
   ]
  },
  {
   "cell_type": "markdown",
   "metadata": {},
   "source": []
  },
  {
   "cell_type": "code",
   "execution_count": 27,
   "metadata": {},
   "outputs": [],
   "source": [
    "rhonew = np.matmul(np.kron(d,d), rho)"
   ]
  },
  {
   "cell_type": "code",
   "execution_count": 28,
   "metadata": {},
   "outputs": [
    {
     "data": {
      "text/plain": [
       "-0.09113308289449512"
      ]
     },
     "execution_count": 28,
     "metadata": {},
     "output_type": "execute_result"
    }
   ],
   "source": [
    "realign_log(rhonew)"
   ]
  },
  {
   "cell_type": "code",
   "execution_count": null,
   "metadata": {},
   "outputs": [],
   "source": []
  }
 ],
 "metadata": {
  "kernelspec": {
   "display_name": "base",
   "language": "python",
   "name": "python3"
  },
  "language_info": {
   "codemirror_mode": {
    "name": "ipython",
    "version": 3
   },
   "file_extension": ".py",
   "mimetype": "text/x-python",
   "name": "python",
   "nbconvert_exporter": "python",
   "pygments_lexer": "ipython3",
   "version": "3.9.13"
  }
 },
 "nbformat": 4,
 "nbformat_minor": 2
}
