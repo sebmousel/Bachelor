{
 "cells": [
  {
   "cell_type": "code",
   "execution_count": 1,
   "metadata": {},
   "outputs": [],
   "source": [
    "from Func_Col import *\n",
    "import numpy as np\n",
    "import matplotlib.pyplot as plt"
   ]
  },
  {
   "cell_type": "code",
   "execution_count": 2,
   "metadata": {},
   "outputs": [
    {
     "name": "stdout",
     "output_type": "stream",
     "text": [
      "[[0.57735027+0.j 0.        +0.j 0.        +0.j]\n",
      " [0.        +0.j 0.57735027+0.j 0.        +0.j]\n",
      " [0.        +0.j 0.        +0.j 0.57735027+0.j]]\n",
      "[[0.        +0.j 0.57735027+0.j 0.        +0.j]\n",
      " [0.        +0.j 0.        +0.j 0.57735027+0.j]\n",
      " [0.57735027+0.j 0.        +0.j 0.        +0.j]]\n",
      "[[0.        +0.j 0.        +0.j 0.57735027+0.j]\n",
      " [0.57735027+0.j 0.        +0.j 0.        +0.j]\n",
      " [0.        +0.j 0.57735027+0.j 0.        +0.j]]\n",
      "[[ 0.57735027+0.j   0.        +0.j   0.        +0.j ]\n",
      " [ 0.        +0.j  -0.28867513+0.5j  0.        +0.j ]\n",
      " [ 0.        +0.j   0.        +0.j  -0.28867513-0.5j]]\n",
      "[[ 0.        +0.j   0.57735027+0.j   0.        +0.j ]\n",
      " [ 0.        +0.j   0.        +0.j  -0.28867513+0.5j]\n",
      " [-0.28867513-0.5j  0.        +0.j   0.        +0.j ]]\n",
      "[[ 0.        +0.j   0.        +0.j   0.57735027+0.j ]\n",
      " [-0.28867513+0.5j  0.        +0.j   0.        +0.j ]\n",
      " [ 0.        +0.j  -0.28867513-0.5j  0.        +0.j ]]\n",
      "[[ 0.57735027+0.j   0.        +0.j   0.        +0.j ]\n",
      " [ 0.        +0.j  -0.28867513-0.5j  0.        +0.j ]\n",
      " [ 0.        +0.j   0.        +0.j  -0.28867513+0.5j]]\n",
      "[[ 0.        +0.j   0.57735027+0.j   0.        +0.j ]\n",
      " [ 0.        +0.j   0.        +0.j  -0.28867513-0.5j]\n",
      " [-0.28867513+0.5j  0.        +0.j   0.        +0.j ]]\n",
      "[[ 0.        +0.j   0.        +0.j   0.57735027+0.j ]\n",
      " [-0.28867513-0.5j  0.        +0.j   0.        +0.j ]\n",
      " [ 0.        +0.j  -0.28867513+0.5j  0.        +0.j ]]\n"
     ]
    }
   ],
   "source": [
    "for i in range(9):\n",
    "    print(gen_bell()[i])"
   ]
  },
  {
   "cell_type": "code",
   "execution_count": 3,
   "metadata": {},
   "outputs": [
    {
     "data": {
      "text/plain": [
       "array([[ 0.00000000e+00+0.00000000e+00j,  0.00000000e+00+0.00000000e+00j,\n",
       "         0.00000000e+00+0.00000000e+00j,  0.00000000e+00-0.00000000e+00j,\n",
       "         0.00000000e+00+0.00000000e+00j,  0.00000000e+00+0.00000000e+00j,\n",
       "         0.00000000e+00+0.00000000e+00j,  0.00000000e+00+0.00000000e+00j,\n",
       "         0.00000000e+00+0.00000000e+00j],\n",
       "       [ 0.00000000e+00+0.00000000e+00j,  0.00000000e+00+0.00000000e+00j,\n",
       "         0.00000000e+00+0.00000000e+00j,  0.00000000e+00-0.00000000e+00j,\n",
       "         0.00000000e+00+0.00000000e+00j,  0.00000000e+00+0.00000000e+00j,\n",
       "         0.00000000e+00+0.00000000e+00j,  0.00000000e+00+0.00000000e+00j,\n",
       "         0.00000000e+00+0.00000000e+00j],\n",
       "       [ 0.00000000e+00+0.00000000e+00j,  0.00000000e+00+0.00000000e+00j,\n",
       "         3.33333333e-01+0.00000000e+00j, -1.60246891e-17-3.20493781e-17j,\n",
       "         0.00000000e+00+0.00000000e+00j,  0.00000000e+00+0.00000000e+00j,\n",
       "         0.00000000e+00+0.00000000e+00j,  4.80740672e-17-6.40987562e-17j,\n",
       "         0.00000000e+00+0.00000000e+00j],\n",
       "       [ 0.00000000e+00+0.00000000e+00j,  0.00000000e+00+0.00000000e+00j,\n",
       "        -1.60246891e-17+3.20493781e-17j,  3.85185989e-33+0.00000000e+00j,\n",
       "         0.00000000e+00+0.00000000e+00j,  0.00000000e+00+0.00000000e+00j,\n",
       "         0.00000000e+00+0.00000000e+00j,  3.85185989e-33+7.70371978e-33j,\n",
       "         0.00000000e+00+0.00000000e+00j],\n",
       "       [ 0.00000000e+00+0.00000000e+00j,  0.00000000e+00+0.00000000e+00j,\n",
       "         0.00000000e+00+0.00000000e+00j,  0.00000000e+00-0.00000000e+00j,\n",
       "         0.00000000e+00+0.00000000e+00j,  0.00000000e+00+0.00000000e+00j,\n",
       "         0.00000000e+00+0.00000000e+00j,  0.00000000e+00+0.00000000e+00j,\n",
       "         0.00000000e+00+0.00000000e+00j],\n",
       "       [ 0.00000000e+00+0.00000000e+00j,  0.00000000e+00+0.00000000e+00j,\n",
       "         0.00000000e+00+0.00000000e+00j,  0.00000000e+00-0.00000000e+00j,\n",
       "         0.00000000e+00+0.00000000e+00j,  0.00000000e+00+0.00000000e+00j,\n",
       "         0.00000000e+00+0.00000000e+00j,  0.00000000e+00+0.00000000e+00j,\n",
       "         0.00000000e+00+0.00000000e+00j],\n",
       "       [ 0.00000000e+00+0.00000000e+00j,  0.00000000e+00+0.00000000e+00j,\n",
       "         0.00000000e+00+0.00000000e+00j,  0.00000000e+00-0.00000000e+00j,\n",
       "         0.00000000e+00+0.00000000e+00j,  0.00000000e+00+0.00000000e+00j,\n",
       "         0.00000000e+00+0.00000000e+00j,  0.00000000e+00+0.00000000e+00j,\n",
       "         0.00000000e+00+0.00000000e+00j],\n",
       "       [ 0.00000000e+00+0.00000000e+00j,  0.00000000e+00+0.00000000e+00j,\n",
       "         4.80740672e-17+6.40987562e-17j,  3.85185989e-33-7.70371978e-33j,\n",
       "         0.00000000e+00+0.00000000e+00j,  0.00000000e+00+0.00000000e+00j,\n",
       "         0.00000000e+00+0.00000000e+00j,  1.92592994e-32+0.00000000e+00j,\n",
       "         0.00000000e+00+0.00000000e+00j],\n",
       "       [ 0.00000000e+00+0.00000000e+00j,  0.00000000e+00+0.00000000e+00j,\n",
       "         0.00000000e+00+0.00000000e+00j,  0.00000000e+00-0.00000000e+00j,\n",
       "         0.00000000e+00+0.00000000e+00j,  0.00000000e+00+0.00000000e+00j,\n",
       "         0.00000000e+00+0.00000000e+00j,  0.00000000e+00+0.00000000e+00j,\n",
       "         0.00000000e+00+0.00000000e+00j]])"
      ]
     },
     "execution_count": 3,
     "metadata": {},
     "output_type": "execute_result"
    }
   ],
   "source": [
    "rhob(0)"
   ]
  },
  {
   "cell_type": "code",
   "execution_count": 4,
   "metadata": {},
   "outputs": [],
   "source": [
    "val = []\n",
    "for n in np.linspace(0, 1/3 , 1000):\n",
    "    val.append(realign_log(rhob(n)))"
   ]
  },
  {
   "cell_type": "code",
   "execution_count": 5,
   "metadata": {},
   "outputs": [
    {
     "data": {
      "text/plain": [
       "(9+0j)"
      ]
     },
     "execution_count": 5,
     "metadata": {},
     "output_type": "execute_result"
    }
   ],
   "source": [
    "realign(np.arange(81).reshape(9,9))[0][1]"
   ]
  },
  {
   "cell_type": "code",
   "execution_count": 6,
   "metadata": {},
   "outputs": [
    {
     "data": {
      "text/plain": [
       "[<matplotlib.lines.Line2D at 0x24c31f3ebe0>]"
      ]
     },
     "execution_count": 6,
     "metadata": {},
     "output_type": "execute_result"
    },
    {
     "data": {
      "image/png": "[encoded data removed]",
      "text/plain": [
       "<Figure size 640x480 with 1 Axes>"
      ]
     },
     "metadata": {},
     "output_type": "display_data"
    }
   ],
   "source": [
    "plt.plot(np.linspace(0,1/3,1000), val)"
   ]
  },
  {
   "cell_type": "code",
   "execution_count": 7,
   "metadata": {},
   "outputs": [
    {
     "data": {
      "text/plain": [
       "array([[0.        , 0.        , 0.33333333],\n",
       "       [0.        , 0.        , 0.33333333],\n",
       "       [0.        , 0.        , 0.33333333]])"
      ]
     },
     "execution_count": 7,
     "metadata": {},
     "output_type": "execute_result"
    }
   ],
   "source": [
    "dkl(0)"
   ]
  },
  {
   "cell_type": "code",
   "execution_count": null,
   "metadata": {},
   "outputs": [],
   "source": []
  }
 ],
 "metadata": {
  "kernelspec": {
   "display_name": "base",
   "language": "python",
   "name": "python3"
  },
  "language_info": {
   "codemirror_mode": {
    "name": "ipython",
    "version": 3
   },
   "file_extension": ".py",
   "mimetype": "text/x-python",
   "name": "python",
   "nbconvert_exporter": "python",
   "pygments_lexer": "ipython3",
   "version": "3.9.13"
  }
 },
 "nbformat": 4,
 "nbformat_minor": 2
}
